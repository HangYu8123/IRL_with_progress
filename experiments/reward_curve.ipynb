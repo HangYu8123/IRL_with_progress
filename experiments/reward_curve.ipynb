{
 "cells": [
  {
   "cell_type": "code",
   "execution_count": 1,
   "metadata": {},
   "outputs": [
    {
     "name": "stderr",
     "output_type": "stream",
     "text": [
      "2024-08-10 14:37:05.498576: E external/local_xla/xla/stream_executor/cuda/cuda_fft.cc:485] Unable to register cuFFT factory: Attempting to register factory for plugin cuFFT when one has already been registered\n",
      "2024-08-10 14:37:05.508816: E external/local_xla/xla/stream_executor/cuda/cuda_dnn.cc:8454] Unable to register cuDNN factory: Attempting to register factory for plugin cuDNN when one has already been registered\n",
      "2024-08-10 14:37:05.511904: E external/local_xla/xla/stream_executor/cuda/cuda_blas.cc:1452] Unable to register cuBLAS factory: Attempting to register factory for plugin cuBLAS when one has already been registered\n",
      "2024-08-10 14:37:05.520322: I tensorflow/core/platform/cpu_feature_guard.cc:210] This TensorFlow binary is optimized to use available CPU instructions in performance-critical operations.\n",
      "To enable the following instructions: AVX2 FMA, in other operations, rebuild TensorFlow with the appropriate compiler flags.\n",
      "2024-08-10 14:37:06.074694: W tensorflow/compiler/tf2tensorrt/utils/py_utils.cc:38] TF-TRT Warning: Could not find TensorRT\n",
      "/home/hang/.local/lib/python3.10/site-packages/tqdm/auto.py:21: TqdmWarning: IProgress not found. Please update jupyter and ipywidgets. See https://ipywidgets.readthedocs.io/en/stable/user_install.html\n",
      "  from .autonotebook import tqdm as notebook_tqdm\n",
      "\u001b[1m\u001b[33m[robosuite WARNING] \u001b[0mNo private macro file found! (macros.py:53)\n",
      "\u001b[1m\u001b[33m[robosuite WARNING] \u001b[0mIt is recommended to use a private macro file (macros.py:54)\n",
      "\u001b[1m\u001b[33m[robosuite WARNING] \u001b[0mTo setup, run: python /home/hang/.local/lib/python3.10/site-packages/robosuite/scripts/setup_macros.py (macros.py:55)\n"
     ]
    }
   ],
   "source": [
    "import numpy as np\n",
    "import gymnasium as gym\n",
    "from stable_baselines3 import PPO\n",
    "from stable_baselines3.common.evaluation import evaluate_policy\n",
    "from stable_baselines3.ppo import MlpPolicy\n",
    "\n",
    "# from imitation.algorithms.adversarial.airl import AIRL\n",
    "from IRL_lib_mod.airl import AIRL\n",
    "from imitation.data import rollout\n",
    "from imitation.data.wrappers import RolloutInfoWrapper\n",
    "from imitation.policies.serialize import load_policy\n",
    "from imitation.rewards.reward_nets import BasicShapedRewardNet\n",
    "from imitation.util.networks import RunningNorm\n",
    "from utils.irl_utils import make_vec_env_robosuite\n",
    "from utils.demostration_utils import load_dataset_to_trajectories\n",
    "import os\n",
    "import h5py\n",
    "import json\n",
    "from robosuite.controllers import load_controller_config\n",
    "from utils.demostration_utils import load_dataset_and_annotations_simutanously\n",
    "from utils.annotation_utils import read_all_json\n",
    "from imitation.util import logger as imit_logger\n",
    "import imitation.scripts.train_adversarial as train_adversarial\n",
    "import argparse\n",
    "import robosuite as suite\n",
    "import torch\n",
    "from utils.demostration_utils import load_data_to_h5py\n",
    "from utils.annotation_utils import write_to_json\n",
    "import time\n"
   ]
  },
  {
   "cell_type": "code",
   "execution_count": 2,
   "metadata": {},
   "outputs": [
    {
     "name": "stdout",
     "output_type": "stream",
     "text": [
      "/home/hang/AIRL_with_Progress/learning-with-progress/\n"
     ]
    }
   ],
   "source": [
    "exp_name = \"with_value_shaping\"\n",
    "checkpoint = \"300\"\n",
    "\n",
    "notebook_path = os.getcwd()  # Get current working directory (where the notebook is running)\n",
    "notebook_path = os.path.abspath(notebook_path)  # Get absolute path of the notebook\n",
    "#- \"experiments\"\n",
    "project_path = notebook_path.split(\"experiments\")[0]\n",
    "print(project_path)\n",
    "dataset_path = os.path.join(project_path, \"human-demo/can-pick/low_dim_v141.hdf5\")\n",
    "\n",
    "# Now, proceed with your h5py file operations\n",
    "f = h5py.File(dataset_path, 'r')\n",
    "env_meta = json.loads(f[\"data\"].attrs[\"env_args\"])"
   ]
  },
  {
   "cell_type": "code",
   "execution_count": 3,
   "metadata": {},
   "outputs": [
    {
     "name": "stderr",
     "output_type": "stream",
     "text": [
      "/tmp/ipykernel_13279/2023381550.py:22: FutureWarning: You are using `torch.load` with `weights_only=False` (the current default value), which uses the default pickle module implicitly. It is possible to construct malicious pickle data which will execute arbitrary code during unpickling (See https://github.com/pytorch/pytorch/blob/main/SECURITY.md#untrusted-models for more details). In a future release, the default value for `weights_only` will be flipped to `True`. This limits the functions that could be executed during unpickling. Arbitrary objects will no longer be allowed to be loaded via this mode unless they are explicitly allowlisted by the user via `torch.serialization.add_safe_globals`. We recommend you start setting `weights_only=True` for any use case where you don't have full control of the loaded file. Please open an issue on GitHub for any issues related to this experimental feature.\n",
      "  reward_net = (torch.load(f\"{project_path}/checkpoints/{exp_name}/{checkpoint}/reward_train.pt\"))\n"
     ]
    }
   ],
   "source": [
    "make_env_kwargs = dict(\n",
    "    robots=\"Panda\",             # load a Sawyer robot and a Panda robot\n",
    "    gripper_types=\"default\",                # use default grippers per robot arm\n",
    "    controller_configs=env_meta[\"env_kwargs\"][\"controller_configs\"],   # each arm is controlled using OSC\n",
    "    has_renderer=True,                      # on-screen rendering\n",
    "    render_camera=\"frontview\",              # visualize the \"frontview\" camera\n",
    "    has_offscreen_renderer=True,           # no off-screen rendering\n",
    "    control_freq=20,                        # 20 hz control for applied actions\n",
    "    horizon=1000,                            # each episode terminates after 200 steps\n",
    "    use_object_obs=True,                   # no observations needed\n",
    "    use_camera_obs=False,\n",
    "    reward_shaping=True,\n",
    ")\n",
    "\n",
    "SEED = 42\n",
    "\n",
    "env = suite.make(\n",
    "    \"PickPlaceCanModified\",\n",
    "    **make_env_kwargs,\n",
    ")\n",
    "policy = PPO.load(f\"{project_path}/checkpoints/{exp_name}/{checkpoint}/gen_policy/model\")\n",
    "reward_net = (torch.load(f\"{project_path}/checkpoints/{exp_name}/{checkpoint}/reward_train.pt\"))\n",
    "reward_net.eval()\n",
    "reward_net_device = torch.device(\"cuda\" if torch.cuda.is_available() else \"cpu\")\n",
    "reward_net.to(reward_net_device)\n",
    "\n",
    "evaluate_times = 10\n",
    "obs_keys = [\"object-state\", \"robot0_eef_pos\", \"robot0_eef_quat\", \"robot0_gripper_qpos\"]"
   ]
  },
  {
   "cell_type": "code",
   "execution_count": 4,
   "metadata": {},
   "outputs": [
    {
     "name": "stdout",
     "output_type": "stream",
     "text": [
      "['demo_0', 'demo_1', 'demo_10', 'demo_100', 'demo_101', 'demo_102', 'demo_107', 'demo_124', 'demo_14', 'demo_143', 'demo_160', 'demo_166', 'demo_17', 'demo_187', 'demo_199', 'demo_200', 'demo_202', 'demo_208', 'demo_214', 'demo_221', 'demo_232', 'demo_236', 'demo_257', 'demo_261', 'demo_265', 'demo_266', 'demo_269', 'demo_286', 'demo_293', 'demo_40', 'demo_49', 'demo_52', 'demo_63', 'demo_67', 'demo_9', 'demo_95', 'demo_97']\n"
     ]
    }
   ],
   "source": [
    "replay_demo_keys = [\n",
    "    'demo_0', 'demo_1', 'demo_10', 'demo_100', 'demo_101', 'demo_102',\n",
    "    'demo_107', 'demo_124', 'demo_14', 'demo_143', 'demo_160', 'demo_166',\n",
    "    'demo_17', 'demo_187', 'demo_199', 'demo_200'\n",
    "]\n",
    "\n",
    "print(replay_demo_keys)\n",
    "# set json data folder\n",
    "data_folder = \"progress_data_mh\"\n",
    "# indexing with demo keys\n",
    "rewards = { key: [] for key in replay_demo_keys}"
   ]
  },
  {
   "cell_type": "code",
   "execution_count": 5,
   "metadata": {},
   "outputs": [
    {
     "name": "stdout",
     "output_type": "stream",
     "text": [
      "replaying {}:  demo_0\n"
     ]
    },
    {
     "name": "stderr",
     "output_type": "stream",
     "text": [
      "Only C and default locale supported with the posix collation implementation\n",
      "Only C and default locale supported with the posix collation implementation\n",
      "Case insensitive sorting unsupported in the posix collation implementation\n",
      "Numeric mode unsupported in the posix collation implementation\n"
     ]
    },
    {
     "name": "stdout",
     "output_type": "stream",
     "text": [
      "replaying {}:  demo_1\n",
      "replaying {}:  demo_10\n",
      "replaying {}:  demo_100\n",
      "replaying {}:  demo_101\n",
      "replaying {}:  demo_102\n",
      "replaying {}:  demo_107\n",
      "replaying {}:  demo_124\n",
      "replaying {}:  demo_14\n",
      "replaying {}:  demo_143\n",
      "replaying {}:  demo_160\n",
      "replaying {}:  demo_166\n",
      "replaying {}:  demo_17\n",
      "replaying {}:  demo_187\n",
      "replaying {}:  demo_199\n",
      "replaying {}:  demo_200\n"
     ]
    },
    {
     "ename": "KeyError",
     "evalue": "'Unable to synchronously open object (component not found)'",
     "output_type": "error",
     "traceback": [
      "\u001b[0;31m---------------------------------------------------------------------------\u001b[0m",
      "\u001b[0;31mKeyError\u001b[0m                                  Traceback (most recent call last)",
      "Cell \u001b[0;32mIn[5], line 3\u001b[0m\n\u001b[1;32m      1\u001b[0m \u001b[38;5;28;01mfor\u001b[39;00m key \u001b[38;5;129;01min\u001b[39;00m replay_demo_keys:\n\u001b[1;32m      2\u001b[0m     \u001b[38;5;28mprint\u001b[39m(\u001b[38;5;124m\"\u001b[39m\u001b[38;5;124mreplaying \u001b[39m\u001b[38;5;132;01m{}\u001b[39;00m\u001b[38;5;124m: \u001b[39m\u001b[38;5;124m\"\u001b[39m, key)\n\u001b[0;32m----> 3\u001b[0m     obs \u001b[38;5;241m=\u001b[39m np\u001b[38;5;241m.\u001b[39marray(\u001b[43mf\u001b[49m\u001b[43m[\u001b[49m\u001b[38;5;124;43m\"\u001b[39;49m\u001b[38;5;124;43mdata/\u001b[39;49m\u001b[38;5;132;43;01m{}\u001b[39;49;00m\u001b[38;5;124;43m/obs\u001b[39;49m\u001b[38;5;124;43m\"\u001b[39;49m\u001b[38;5;241;43m.\u001b[39;49m\u001b[43mformat\u001b[49m\u001b[43m(\u001b[49m\u001b[43mkey\u001b[49m\u001b[43m)\u001b[49m\u001b[43m]\u001b[49m)\n\u001b[1;32m      4\u001b[0m     actions \u001b[38;5;241m=\u001b[39m np\u001b[38;5;241m.\u001b[39marray(f[\u001b[38;5;124m\"\u001b[39m\u001b[38;5;124mdata/\u001b[39m\u001b[38;5;132;01m{}\u001b[39;00m\u001b[38;5;124m/actions\u001b[39m\u001b[38;5;124m\"\u001b[39m\u001b[38;5;241m.\u001b[39mformat(key)])\n\u001b[1;32m      5\u001b[0m     \u001b[38;5;66;03m# print(actions)\u001b[39;00m\n",
      "File \u001b[0;32mh5py/_objects.pyx:54\u001b[0m, in \u001b[0;36mh5py._objects.with_phil.wrapper\u001b[0;34m()\u001b[0m\n",
      "File \u001b[0;32mh5py/_objects.pyx:55\u001b[0m, in \u001b[0;36mh5py._objects.with_phil.wrapper\u001b[0;34m()\u001b[0m\n",
      "File \u001b[0;32m~/.local/lib/python3.10/site-packages/h5py/_hl/group.py:357\u001b[0m, in \u001b[0;36mGroup.__getitem__\u001b[0;34m(self, name)\u001b[0m\n\u001b[1;32m    355\u001b[0m         \u001b[38;5;28;01mraise\u001b[39;00m \u001b[38;5;167;01mValueError\u001b[39;00m(\u001b[38;5;124m\"\u001b[39m\u001b[38;5;124mInvalid HDF5 object reference\u001b[39m\u001b[38;5;124m\"\u001b[39m)\n\u001b[1;32m    356\u001b[0m \u001b[38;5;28;01melif\u001b[39;00m \u001b[38;5;28misinstance\u001b[39m(name, (\u001b[38;5;28mbytes\u001b[39m, \u001b[38;5;28mstr\u001b[39m)):\n\u001b[0;32m--> 357\u001b[0m     oid \u001b[38;5;241m=\u001b[39m \u001b[43mh5o\u001b[49m\u001b[38;5;241;43m.\u001b[39;49m\u001b[43mopen\u001b[49m\u001b[43m(\u001b[49m\u001b[38;5;28;43mself\u001b[39;49m\u001b[38;5;241;43m.\u001b[39;49m\u001b[43mid\u001b[49m\u001b[43m,\u001b[49m\u001b[43m \u001b[49m\u001b[38;5;28;43mself\u001b[39;49m\u001b[38;5;241;43m.\u001b[39;49m\u001b[43m_e\u001b[49m\u001b[43m(\u001b[49m\u001b[43mname\u001b[49m\u001b[43m)\u001b[49m\u001b[43m,\u001b[49m\u001b[43m \u001b[49m\u001b[43mlapl\u001b[49m\u001b[38;5;241;43m=\u001b[39;49m\u001b[38;5;28;43mself\u001b[39;49m\u001b[38;5;241;43m.\u001b[39;49m\u001b[43m_lapl\u001b[49m\u001b[43m)\u001b[49m\n\u001b[1;32m    358\u001b[0m \u001b[38;5;28;01melse\u001b[39;00m:\n\u001b[1;32m    359\u001b[0m     \u001b[38;5;28;01mraise\u001b[39;00m \u001b[38;5;167;01mTypeError\u001b[39;00m(\u001b[38;5;124m\"\u001b[39m\u001b[38;5;124mAccessing a group is done with bytes or str, \u001b[39m\u001b[38;5;124m\"\u001b[39m\n\u001b[1;32m    360\u001b[0m                     \u001b[38;5;124m\"\u001b[39m\u001b[38;5;124mnot \u001b[39m\u001b[38;5;132;01m{}\u001b[39;00m\u001b[38;5;124m\"\u001b[39m\u001b[38;5;241m.\u001b[39mformat(\u001b[38;5;28mtype\u001b[39m(name)))\n",
      "File \u001b[0;32mh5py/_objects.pyx:54\u001b[0m, in \u001b[0;36mh5py._objects.with_phil.wrapper\u001b[0;34m()\u001b[0m\n",
      "File \u001b[0;32mh5py/_objects.pyx:55\u001b[0m, in \u001b[0;36mh5py._objects.with_phil.wrapper\u001b[0;34m()\u001b[0m\n",
      "File \u001b[0;32mh5py/h5o.pyx:241\u001b[0m, in \u001b[0;36mh5py.h5o.open\u001b[0;34m()\u001b[0m\n",
      "\u001b[0;31mKeyError\u001b[0m: 'Unable to synchronously open object (component not found)'"
     ]
    }
   ],
   "source": [
    "for key in replay_demo_keys:\n",
    "    print(\"replaying {}: \", key)\n",
    "    obs = np.array(f[\"data/{}/obs\".format(key)])\n",
    "    actions = np.array(f[\"data/{}/actions\".format(key)])\n",
    "    # print(actions)\n",
    "    dones = np.array(f[\"data/{}/dones\".format(key)])\n",
    "    # set initial state\n",
    "    initial_state = f[\"data/{}/states\".format(key)][0]\n",
    "    \n",
    "    obs = env.reset()\n",
    "    env.sim.set_state_from_flattened(initial_state)\n",
    "    env.sim.forward()\n",
    "    env.render()\n",
    "    reward = 0\n",
    "    obs,_,_,_ = env.step(np.zeros(7))\n",
    "    obs = [obs[key] for key in obs_keys]\n",
    "    obs = np.concatenate(obs)\n",
    "    past_action = np.zeros(7)\n",
    "    done = False\n",
    "    zero = 0\n",
    "    for action in actions:\n",
    "        # print(action)\n",
    "        next_obs, reward, next_done, info = env.step(action)\n",
    "        next_obs = [next_obs[key] for key in obs_keys]\n",
    "        next_obs = np.concatenate(next_obs)\n",
    "        # print(next_obs)\n",
    "        \n",
    "        obs_tensor = torch.tensor(obs).float().unsqueeze(0).to(reward_net_device)\n",
    "        action_tensor = torch.tensor(action).float().unsqueeze(0).to(reward_net_device)\n",
    "        next_obs_tensor = torch.tensor(next_obs).float().unsqueeze(0).to(reward_net_device)\n",
    "        done = torch.tensor([0]).float().unsqueeze(0).to(reward_net_device)\n",
    "        # get the reward from the reward network\n",
    "        disc_rew = reward_net(obs_tensor, action_tensor, next_obs_tensor, done)\n",
    "        # append reward to rewards\n",
    "        rewards[key].append(disc_rew.item())\n",
    "        obs = next_obs\n",
    "        past_action = action\n",
    "        #print(f\"Discriminator Reward: {disc_rew}\")\n",
    "\n",
    "        env.render()\n",
    "        if next_done:\n",
    "            break\n",
    "env.close()\n"
   ]
  },
  {
   "cell_type": "code",
   "execution_count": null,
   "metadata": {},
   "outputs": [
    {
     "data": {
      "image/png": "[encoded data removed]",
      "text/plain": [
       "<Figure size 640x480 with 1 Axes>"
      ]
     },
     "metadata": {},
     "output_type": "display_data"
    }
   ],
   "source": [
    "# plot out the rewards\n",
    "import matplotlib.pyplot as plt\n",
    "for key in replay_demo_keys:\n",
    "    plt.plot(rewards[key], label=key)"
   ]
  }
 ],
 "metadata": {
  "kernelspec": {
   "display_name": "Python 3",
   "language": "python",
   "name": "python3"
  },
  "language_info": {
   "codemirror_mode": {
    "name": "ipython",
    "version": 3
   },
   "file_extension": ".py",
   "mimetype": "text/x-python",
   "name": "python",
   "nbconvert_exporter": "python",
   "pygments_lexer": "ipython3",
   "version": "3.10.14"
  }
 },
 "nbformat": 4,
 "nbformat_minor": 2
}
